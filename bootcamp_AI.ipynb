{
  "nbformat": 4,
  "nbformat_minor": 0,
  "metadata": {
    "colab": {
      "provenance": [],
      "authorship_tag": "ABX9TyNR/UA1Q7laBBzulQLOTMJI",
      "include_colab_link": true
    },
    "kernelspec": {
      "name": "python3",
      "display_name": "Python 3"
    },
    "language_info": {
      "name": "python"
    }
  },
  "cells": [
    {
      "cell_type": "markdown",
      "metadata": {
        "id": "view-in-github",
        "colab_type": "text"
      },
      "source": [
        "<a href=\"https://colab.research.google.com/github/Spartan1-1-7/Smart-Tac-Toe/blob/main/bootcamp_AI.ipynb\" target=\"_parent\"><img src=\"https://colab.research.google.com/assets/colab-badge.svg\" alt=\"Open In Colab\"/></a>"
      ]
    },
    {
      "cell_type": "code",
      "execution_count": null,
      "metadata": {
        "id": "uq8dTvzA5bxj"
      },
      "outputs": [],
      "source": [
        "def analyze_board(board):\n",
        "  win_check=[[0,1,2],[3,4,5],[6,7,8],[0,3,6],[1,4,5],[2,5,8],[2,4,6],[0,4,8]]\n",
        "  c=win_check.copy()\n",
        "  for i in range (0,8):\n",
        "    if (board[c[i][0]]!=0)and(board[c[i][1]]==board[c[i][0]])and(board[c[i][2]]==board[c[i][1]]):\n",
        "      # print(\"winner\")\n",
        "      return board[c[i][0]]\n",
        "  return 0\n",
        "\n",
        "def const_board(board):\n",
        "  print(\"the current state of the board :\\n\\n\")\n",
        "  for i in range (0,9):\n",
        "    if ((i!=0)and(i%3)==0): #can also use (i+1)%3==0\n",
        "      print(\"\\n\")\n",
        "    if board[i]==0:\n",
        "      print(\"_\",end=\" \")\n",
        "    if board[i]==1:\n",
        "      print(\"X\",end=\" \")\n",
        "    if board[i]==-1:\n",
        "      print(\"O\",end=\" \")\n",
        "\n",
        "  print(\"\\n\\n\")\n",
        "\n",
        "def user_1_turn(board):\n",
        "  pos=int(input(\" enter 'x' position [1-9]:\"))\n",
        "  # if(1>board[pos-1]>9)or(board[pos-1]!=0):\n",
        "  if((pos-1)<=0 and (pos-1)>=9):\n",
        "    if (board[pos-1]!=0):\n",
        "      print(\"wrong move\")\n",
        "      exit(0)\n",
        "  board[pos-1]=-1\n",
        "\n",
        "def user_2_turn(board):\n",
        "  pos=int(input(\" enter 'x' position [1-9]:\"))\n",
        "  if(board[pos-1]<0 and board[pos-1]>=9)or(board[pos-1]!=0):\n",
        "    print(\"wrong move\")\n",
        "    exit(0)\n",
        "  board[pos-1]=1\n",
        "\n",
        "def comp_turn(board):\n",
        "  pos=-1\n",
        "  value=-2\n",
        "  for i in range (0,9):\n",
        "    if board[i]==0:\n",
        "      board[i]=1\n",
        "      score=(-1)*min_max(board,-1)\n",
        "      board[i]=0\n",
        "      if score>value:\n",
        "        value=score\n",
        "        pos=i\n",
        "  board[pos]=1\n",
        "\n",
        "def min_max(board,player):\n",
        "  x=analyze_board(board)\n",
        "  if(x!=0):\n",
        "    return x*player\n",
        "  pos=-1\n",
        "  value=-2\n",
        "  for i in range (0,9):\n",
        "    if board[i]==0:\n",
        "      board[i]=player\n",
        "      score=(-1)*min_max(board,player*(-1))\n",
        "      board[i]=0\n",
        "      if score>value:\n",
        "        value=score\n",
        "        pos=i\n",
        "  if (pos==-1):\n",
        "    return 0\n",
        "  return value\n",
        "\n",
        "\n",
        "def main():\n",
        "  choice = int(input(\"enter 1 for single-player ir 2 for multi-player\"))\n",
        "  board = [0,0,0,0,0,0,0,0,0]\n",
        "  if (choice==1):\n",
        "    # print(\"Single-Player Game\")\n",
        "    print(\"Computer O vs You X : \\n\")\n",
        "    player= int(input(\"enter to play first ('1') or second('2')\"))\n",
        "    for i in range(0,9):\n",
        "      if analyze_board(board)!=0:\n",
        "        break\n",
        "      if (i+player)%2==0:\n",
        "        comp_turn(board)\n",
        "      else:\n",
        "        const_board(board)\n",
        "        user_1_turn(board)\n",
        "  else:\n",
        "    # print(\"Multi-Player Game\")\n",
        "    for i in range(0,9):\n",
        "      if analyze_board(board)!=0:\n",
        "        break\n",
        "      if i%2==0:\n",
        "        const_board(board)\n",
        "        user_1_turn(board)\n",
        "      else:\n",
        "        const_board(board)\n",
        "        user_2_turn(board)\n",
        "  const_board(board)\n",
        "  if (analyze_board(board)==0):\n",
        "    print(\"Draw !!\")\n",
        "  elif (analyze_board(board)==-1):\n",
        "    print(\"player 1 has won !!\")\n",
        "  else:\n",
        "    print(\"player 2 has won !!\")\n",
        "\n"
      ]
    },
    {
      "cell_type": "code",
      "source": [
        "main()"
      ],
      "metadata": {
        "colab": {
          "base_uri": "https://localhost:8080/",
          "height": 929
        },
        "id": "UnjQSGdsBD1L",
        "outputId": "e5085792-8265-4ae9-d8eb-2eaa6f10d377"
      },
      "execution_count": null,
      "outputs": [
        {
          "name": "stdout",
          "output_type": "stream",
          "text": [
            "enter 1 for single-player ir 2 for multi-player1\n",
            "Computer O vs You X : \n",
            "\n",
            "enter to play first ('1') or second('2')1\n",
            "the current state of the board :\n",
            "\n",
            "\n",
            "_ _ _ \n",
            "\n",
            "_ _ _ \n",
            "\n",
            "_ _ _ \n",
            "\n",
            "\n",
            " enter 'x' position [1-9]:5\n",
            "the current state of the board :\n",
            "\n",
            "\n",
            "X _ _ \n",
            "\n",
            "_ O _ \n",
            "\n",
            "_ _ _ \n",
            "\n",
            "\n",
            " enter 'x' position [1-9]:7\n",
            "the current state of the board :\n",
            "\n",
            "\n",
            "X _ X \n",
            "\n",
            "_ O _ \n",
            "\n",
            "O _ _ \n",
            "\n",
            "\n",
            " enter 'x' position [1-9]:15\n"
          ]
        },
        {
          "output_type": "error",
          "ename": "IndexError",
          "evalue": "list assignment index out of range",
          "traceback": [
            "\u001b[0;31m---------------------------------------------------------------------------\u001b[0m",
            "\u001b[0;31mIndexError\u001b[0m                                Traceback (most recent call last)",
            "\u001b[0;32m<ipython-input-10-263240bbee7e>\u001b[0m in \u001b[0;36m<cell line: 1>\u001b[0;34m()\u001b[0m\n\u001b[0;32m----> 1\u001b[0;31m \u001b[0mmain\u001b[0m\u001b[0;34m(\u001b[0m\u001b[0;34m)\u001b[0m\u001b[0;34m\u001b[0m\u001b[0;34m\u001b[0m\u001b[0m\n\u001b[0m",
            "\u001b[0;32m<ipython-input-9-9dc12dd4e7b8>\u001b[0m in \u001b[0;36mmain\u001b[0;34m()\u001b[0m\n\u001b[1;32m     84\u001b[0m       \u001b[0;32melse\u001b[0m\u001b[0;34m:\u001b[0m\u001b[0;34m\u001b[0m\u001b[0;34m\u001b[0m\u001b[0m\n\u001b[1;32m     85\u001b[0m         \u001b[0mconst_board\u001b[0m\u001b[0;34m(\u001b[0m\u001b[0mboard\u001b[0m\u001b[0;34m)\u001b[0m\u001b[0;34m\u001b[0m\u001b[0;34m\u001b[0m\u001b[0m\n\u001b[0;32m---> 86\u001b[0;31m         \u001b[0muser_1_turn\u001b[0m\u001b[0;34m(\u001b[0m\u001b[0mboard\u001b[0m\u001b[0;34m)\u001b[0m\u001b[0;34m\u001b[0m\u001b[0;34m\u001b[0m\u001b[0m\n\u001b[0m\u001b[1;32m     87\u001b[0m   \u001b[0;32melse\u001b[0m\u001b[0;34m:\u001b[0m\u001b[0;34m\u001b[0m\u001b[0;34m\u001b[0m\u001b[0m\n\u001b[1;32m     88\u001b[0m     \u001b[0;31m# print(\"Multi-Player Game\")\u001b[0m\u001b[0;34m\u001b[0m\u001b[0;34m\u001b[0m\u001b[0m\n",
            "\u001b[0;32m<ipython-input-9-9dc12dd4e7b8>\u001b[0m in \u001b[0;36muser_1_turn\u001b[0;34m(board)\u001b[0m\n\u001b[1;32m     29\u001b[0m       \u001b[0mprint\u001b[0m\u001b[0;34m(\u001b[0m\u001b[0;34m\"wrong move\"\u001b[0m\u001b[0;34m)\u001b[0m\u001b[0;34m\u001b[0m\u001b[0;34m\u001b[0m\u001b[0m\n\u001b[1;32m     30\u001b[0m       \u001b[0mexit\u001b[0m\u001b[0;34m(\u001b[0m\u001b[0;36m0\u001b[0m\u001b[0;34m)\u001b[0m\u001b[0;34m\u001b[0m\u001b[0;34m\u001b[0m\u001b[0m\n\u001b[0;32m---> 31\u001b[0;31m   \u001b[0mboard\u001b[0m\u001b[0;34m[\u001b[0m\u001b[0mpos\u001b[0m\u001b[0;34m-\u001b[0m\u001b[0;36m1\u001b[0m\u001b[0;34m]\u001b[0m\u001b[0;34m=\u001b[0m\u001b[0;34m-\u001b[0m\u001b[0;36m1\u001b[0m\u001b[0;34m\u001b[0m\u001b[0;34m\u001b[0m\u001b[0m\n\u001b[0m\u001b[1;32m     32\u001b[0m \u001b[0;34m\u001b[0m\u001b[0m\n\u001b[1;32m     33\u001b[0m \u001b[0;32mdef\u001b[0m \u001b[0muser_2_turn\u001b[0m\u001b[0;34m(\u001b[0m\u001b[0mboard\u001b[0m\u001b[0;34m)\u001b[0m\u001b[0;34m:\u001b[0m\u001b[0;34m\u001b[0m\u001b[0;34m\u001b[0m\u001b[0m\n",
            "\u001b[0;31mIndexError\u001b[0m: list assignment index out of range"
          ]
        }
      ]
    },
    {
      "cell_type": "code",
      "source": [],
      "metadata": {
        "id": "ZDDyNz2fBHdN"
      },
      "execution_count": null,
      "outputs": []
    }
  ]
}